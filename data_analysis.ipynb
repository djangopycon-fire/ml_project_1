{
 "cells": [
  {
   "cell_type": "code",
   "execution_count": 1,
   "metadata": {
    "collapsed": false
   },
   "outputs": [],
   "source": [
    "import pandas as pd\n",
    "import sqlite3\n",
    "from bs4 import BeautifulSoup\n",
    "import matplotlib.pyplot as plt\n",
    "import numpy as np\n",
    "%matplotlib inline"
   ]
  },
  {
   "cell_type": "code",
   "execution_count": 2,
   "metadata": {
    "collapsed": false
   },
   "outputs": [],
   "source": [
    "conn=sqlite3.connect('ritu.db')"
   ]
  },
  {
   "cell_type": "code",
   "execution_count": 3,
   "metadata": {
    "collapsed": true
   },
   "outputs": [],
   "source": [
    "# returning all records from ques-posts\n",
    "ques_query=\"SELECT * FROM [posts]\""
   ]
  },
  {
   "cell_type": "code",
   "execution_count": 4,
   "metadata": {
    "collapsed": true
   },
   "outputs": [],
   "source": [
    "post_df = pd.read_sql_query(ques_query, conn)"
   ]
  },
  {
   "cell_type": "code",
   "execution_count": 5,
   "metadata": {
    "collapsed": false
   },
   "outputs": [
    {
     "data": {
      "text/plain": [
       "(8438, 21)"
      ]
     },
     "execution_count": 5,
     "metadata": {},
     "output_type": "execute_result"
    }
   ],
   "source": [
    "post_df.shape"
   ]
  },
  {
   "cell_type": "code",
   "execution_count": 6,
   "metadata": {
    "collapsed": false
   },
   "outputs": [
    {
     "name": "stdout",
     "output_type": "stream",
     "text": [
      "<class 'pandas.core.frame.DataFrame'>\n",
      "Int64Index: 8438 entries, 0 to 8437\n",
      "Data columns (total 21 columns):\n",
      "Body                     8438 non-null object\n",
      "ViewCount                3548 non-null float64\n",
      "LastEditorDisplayName    8 non-null object\n",
      "ClosedDate               234 non-null object\n",
      "Title                    3548 non-null object\n",
      "LastEditorUserId         2815 non-null float64\n",
      "ParentID                 4672 non-null float64\n",
      "LastEditDate             2823 non-null object\n",
      "CommentCount             8438 non-null int64\n",
      "CommunityOwnedDate       107 non-null object\n",
      "AnswerCount              3548 non-null float64\n",
      "AcceptedAnswerId         1223 non-null float64\n",
      "Score                    8438 non-null int64\n",
      "OwnerDisplayName         52 non-null object\n",
      "PostTypeId               8438 non-null int64\n",
      "OwnerUserId              8415 non-null float64\n",
      "Tags                     3548 non-null object\n",
      "CreationDate             8438 non-null object\n",
      "FavoriteCount            1162 non-null float64\n",
      "Id                       8438 non-null int64\n",
      "LastActivityDate         8438 non-null object\n",
      "dtypes: float64(7), int64(4), object(10)\n",
      "memory usage: 1.1+ MB\n"
     ]
    }
   ],
   "source": [
    "post_df.info()"
   ]
  },
  {
   "cell_type": "code",
   "execution_count": 7,
   "metadata": {
    "collapsed": false
   },
   "outputs": [
    {
     "data": {
      "text/html": [
       "<div>\n",
       "<table border=\"1\" class=\"dataframe\">\n",
       "  <thead>\n",
       "    <tr style=\"text-align: right;\">\n",
       "      <th></th>\n",
       "      <th>Body</th>\n",
       "      <th>ViewCount</th>\n",
       "      <th>LastEditorDisplayName</th>\n",
       "      <th>ClosedDate</th>\n",
       "      <th>Title</th>\n",
       "      <th>LastEditorUserId</th>\n",
       "      <th>ParentID</th>\n",
       "      <th>LastEditDate</th>\n",
       "      <th>CommentCount</th>\n",
       "      <th>CommunityOwnedDate</th>\n",
       "      <th>...</th>\n",
       "      <th>AcceptedAnswerId</th>\n",
       "      <th>Score</th>\n",
       "      <th>OwnerDisplayName</th>\n",
       "      <th>PostTypeId</th>\n",
       "      <th>OwnerUserId</th>\n",
       "      <th>Tags</th>\n",
       "      <th>CreationDate</th>\n",
       "      <th>FavoriteCount</th>\n",
       "      <th>Id</th>\n",
       "      <th>LastActivityDate</th>\n",
       "    </tr>\n",
       "  </thead>\n",
       "  <tbody>\n",
       "    <tr>\n",
       "      <th>0</th>\n",
       "      <td>&lt;p&gt;I've always been interested in machine lear...</td>\n",
       "      <td>306</td>\n",
       "      <td>None</td>\n",
       "      <td>2014-05-14T14:40:25.950</td>\n",
       "      <td>How can I do simple machine learning without h...</td>\n",
       "      <td>NaN</td>\n",
       "      <td>NaN</td>\n",
       "      <td>None</td>\n",
       "      <td>1</td>\n",
       "      <td>None</td>\n",
       "      <td>...</td>\n",
       "      <td>NaN</td>\n",
       "      <td>7</td>\n",
       "      <td>None</td>\n",
       "      <td>1</td>\n",
       "      <td>5</td>\n",
       "      <td>&lt;machine-learning&gt;</td>\n",
       "      <td>2014-05-13T23:58:30.457</td>\n",
       "      <td>1</td>\n",
       "      <td>5</td>\n",
       "      <td>2014-05-14T00:36:31.077</td>\n",
       "    </tr>\n",
       "    <tr>\n",
       "      <th>1</th>\n",
       "      <td>&lt;p&gt;As a researcher and instructor, I'm looking...</td>\n",
       "      <td>285</td>\n",
       "      <td>None</td>\n",
       "      <td>2014-05-14T08:40:54.950</td>\n",
       "      <td>What open-source books (or other materials) pr...</td>\n",
       "      <td>97</td>\n",
       "      <td>NaN</td>\n",
       "      <td>2014-05-16T13:45:00.237</td>\n",
       "      <td>4</td>\n",
       "      <td>None</td>\n",
       "      <td>...</td>\n",
       "      <td>10</td>\n",
       "      <td>2</td>\n",
       "      <td>None</td>\n",
       "      <td>1</td>\n",
       "      <td>36</td>\n",
       "      <td>&lt;education&gt;&lt;open-source&gt;</td>\n",
       "      <td>2014-05-14T00:11:06.457</td>\n",
       "      <td>1</td>\n",
       "      <td>7</td>\n",
       "      <td>2014-05-16T13:45:00.237</td>\n",
       "    </tr>\n",
       "    <tr>\n",
       "      <th>2</th>\n",
       "      <td>&lt;p&gt;Not sure if this fits the scope of this SE,...</td>\n",
       "      <td>NaN</td>\n",
       "      <td>None</td>\n",
       "      <td>None</td>\n",
       "      <td>None</td>\n",
       "      <td>NaN</td>\n",
       "      <td>5</td>\n",
       "      <td>None</td>\n",
       "      <td>0</td>\n",
       "      <td>None</td>\n",
       "      <td>...</td>\n",
       "      <td>NaN</td>\n",
       "      <td>4</td>\n",
       "      <td>None</td>\n",
       "      <td>2</td>\n",
       "      <td>51</td>\n",
       "      <td>None</td>\n",
       "      <td>2014-05-14T00:36:31.077</td>\n",
       "      <td>NaN</td>\n",
       "      <td>9</td>\n",
       "      <td>2014-05-14T00:36:31.077</td>\n",
       "    </tr>\n",
       "    <tr>\n",
       "      <th>3</th>\n",
       "      <td>&lt;p&gt;One book that's freely available is \"The El...</td>\n",
       "      <td>NaN</td>\n",
       "      <td>None</td>\n",
       "      <td>None</td>\n",
       "      <td>None</td>\n",
       "      <td>NaN</td>\n",
       "      <td>7</td>\n",
       "      <td>None</td>\n",
       "      <td>1</td>\n",
       "      <td>None</td>\n",
       "      <td>...</td>\n",
       "      <td>NaN</td>\n",
       "      <td>10</td>\n",
       "      <td>None</td>\n",
       "      <td>2</td>\n",
       "      <td>22</td>\n",
       "      <td>None</td>\n",
       "      <td>2014-05-14T00:53:43.273</td>\n",
       "      <td>NaN</td>\n",
       "      <td>10</td>\n",
       "      <td>2014-05-14T00:53:43.273</td>\n",
       "    </tr>\n",
       "    <tr>\n",
       "      <th>4</th>\n",
       "      <td>&lt;p&gt;I am sure data science as will be discussed...</td>\n",
       "      <td>737</td>\n",
       "      <td>None</td>\n",
       "      <td>None</td>\n",
       "      <td>Is Data Science the Same as Data Mining?</td>\n",
       "      <td>322</td>\n",
       "      <td>NaN</td>\n",
       "      <td>2014-06-17T16:17:20.473</td>\n",
       "      <td>1</td>\n",
       "      <td>None</td>\n",
       "      <td>...</td>\n",
       "      <td>NaN</td>\n",
       "      <td>16</td>\n",
       "      <td>None</td>\n",
       "      <td>1</td>\n",
       "      <td>66</td>\n",
       "      <td>&lt;data-mining&gt;&lt;definitions&gt;</td>\n",
       "      <td>2014-05-14T01:25:59.677</td>\n",
       "      <td>3</td>\n",
       "      <td>14</td>\n",
       "      <td>2014-06-20T17:36:05.023</td>\n",
       "    </tr>\n",
       "  </tbody>\n",
       "</table>\n",
       "<p>5 rows × 21 columns</p>\n",
       "</div>"
      ],
      "text/plain": [
       "                                                Body  ViewCount  \\\n",
       "0  <p>I've always been interested in machine lear...        306   \n",
       "1  <p>As a researcher and instructor, I'm looking...        285   \n",
       "2  <p>Not sure if this fits the scope of this SE,...        NaN   \n",
       "3  <p>One book that's freely available is \"The El...        NaN   \n",
       "4  <p>I am sure data science as will be discussed...        737   \n",
       "\n",
       "  LastEditorDisplayName               ClosedDate  \\\n",
       "0                  None  2014-05-14T14:40:25.950   \n",
       "1                  None  2014-05-14T08:40:54.950   \n",
       "2                  None                     None   \n",
       "3                  None                     None   \n",
       "4                  None                     None   \n",
       "\n",
       "                                               Title  LastEditorUserId  \\\n",
       "0  How can I do simple machine learning without h...               NaN   \n",
       "1  What open-source books (or other materials) pr...                97   \n",
       "2                                               None               NaN   \n",
       "3                                               None               NaN   \n",
       "4           Is Data Science the Same as Data Mining?               322   \n",
       "\n",
       "   ParentID             LastEditDate  CommentCount CommunityOwnedDate  \\\n",
       "0       NaN                     None             1               None   \n",
       "1       NaN  2014-05-16T13:45:00.237             4               None   \n",
       "2         5                     None             0               None   \n",
       "3         7                     None             1               None   \n",
       "4       NaN  2014-06-17T16:17:20.473             1               None   \n",
       "\n",
       "            ...             AcceptedAnswerId  Score  OwnerDisplayName  \\\n",
       "0           ...                          NaN      7              None   \n",
       "1           ...                           10      2              None   \n",
       "2           ...                          NaN      4              None   \n",
       "3           ...                          NaN     10              None   \n",
       "4           ...                          NaN     16              None   \n",
       "\n",
       "  PostTypeId  OwnerUserId                        Tags  \\\n",
       "0          1            5          <machine-learning>   \n",
       "1          1           36    <education><open-source>   \n",
       "2          2           51                        None   \n",
       "3          2           22                        None   \n",
       "4          1           66  <data-mining><definitions>   \n",
       "\n",
       "              CreationDate FavoriteCount  Id         LastActivityDate  \n",
       "0  2014-05-13T23:58:30.457             1   5  2014-05-14T00:36:31.077  \n",
       "1  2014-05-14T00:11:06.457             1   7  2014-05-16T13:45:00.237  \n",
       "2  2014-05-14T00:36:31.077           NaN   9  2014-05-14T00:36:31.077  \n",
       "3  2014-05-14T00:53:43.273           NaN  10  2014-05-14T00:53:43.273  \n",
       "4  2014-05-14T01:25:59.677             3  14  2014-06-20T17:36:05.023  \n",
       "\n",
       "[5 rows x 21 columns]"
      ]
     },
     "execution_count": 7,
     "metadata": {},
     "output_type": "execute_result"
    }
   ],
   "source": [
    "post_df.head()"
   ]
  },
  {
   "cell_type": "code",
   "execution_count": null,
   "metadata": {
    "collapsed": false
   },
   "outputs": [],
   "source": []
  },
  {
   "cell_type": "code",
   "execution_count": 8,
   "metadata": {
    "collapsed": true
   },
   "outputs": [],
   "source": [
    "post_df.drop(['LastEditorDisplayName','CommunityOwnedDate','LastEditorUserId','LastEditDate',\n",
    "             'LastActivityDate'],axis=1,inplace=True)"
   ]
  },
  {
   "cell_type": "code",
   "execution_count": 9,
   "metadata": {
    "collapsed": false
   },
   "outputs": [
    {
     "data": {
      "text/plain": [
       "Index([u'Body', u'ViewCount', u'ClosedDate', u'Title', u'ParentID',\n",
       "       u'CommentCount', u'AnswerCount', u'AcceptedAnswerId', u'Score',\n",
       "       u'OwnerDisplayName', u'PostTypeId', u'OwnerUserId', u'Tags',\n",
       "       u'CreationDate', u'FavoriteCount', u'Id'],\n",
       "      dtype='object')"
      ]
     },
     "execution_count": 9,
     "metadata": {},
     "output_type": "execute_result"
    }
   ],
   "source": [
    "post_df.columns"
   ]
  },
  {
   "cell_type": "code",
   "execution_count": 10,
   "metadata": {
    "collapsed": false
   },
   "outputs": [
    {
     "data": {
      "text/html": [
       "<div>\n",
       "<table border=\"1\" class=\"dataframe\">\n",
       "  <thead>\n",
       "    <tr style=\"text-align: right;\">\n",
       "      <th></th>\n",
       "      <th>Body</th>\n",
       "      <th>ViewCount</th>\n",
       "      <th>ClosedDate</th>\n",
       "      <th>Title</th>\n",
       "      <th>ParentID</th>\n",
       "      <th>CommentCount</th>\n",
       "      <th>AnswerCount</th>\n",
       "      <th>AcceptedAnswerId</th>\n",
       "      <th>Score</th>\n",
       "      <th>OwnerDisplayName</th>\n",
       "      <th>PostTypeId</th>\n",
       "      <th>OwnerUserId</th>\n",
       "      <th>Tags</th>\n",
       "      <th>CreationDate</th>\n",
       "      <th>FavoriteCount</th>\n",
       "      <th>Id</th>\n",
       "    </tr>\n",
       "  </thead>\n",
       "  <tbody>\n",
       "    <tr>\n",
       "      <th>0</th>\n",
       "      <td>&lt;p&gt;I've always been interested in machine lear...</td>\n",
       "      <td>306</td>\n",
       "      <td>2014-05-14T14:40:25.950</td>\n",
       "      <td>How can I do simple machine learning without h...</td>\n",
       "      <td>NaN</td>\n",
       "      <td>1</td>\n",
       "      <td>1</td>\n",
       "      <td>NaN</td>\n",
       "      <td>7</td>\n",
       "      <td>None</td>\n",
       "      <td>1</td>\n",
       "      <td>5</td>\n",
       "      <td>&lt;machine-learning&gt;</td>\n",
       "      <td>2014-05-13T23:58:30.457</td>\n",
       "      <td>1</td>\n",
       "      <td>5</td>\n",
       "    </tr>\n",
       "    <tr>\n",
       "      <th>1</th>\n",
       "      <td>&lt;p&gt;As a researcher and instructor, I'm looking...</td>\n",
       "      <td>285</td>\n",
       "      <td>2014-05-14T08:40:54.950</td>\n",
       "      <td>What open-source books (or other materials) pr...</td>\n",
       "      <td>NaN</td>\n",
       "      <td>4</td>\n",
       "      <td>3</td>\n",
       "      <td>10</td>\n",
       "      <td>2</td>\n",
       "      <td>None</td>\n",
       "      <td>1</td>\n",
       "      <td>36</td>\n",
       "      <td>&lt;education&gt;&lt;open-source&gt;</td>\n",
       "      <td>2014-05-14T00:11:06.457</td>\n",
       "      <td>1</td>\n",
       "      <td>7</td>\n",
       "    </tr>\n",
       "    <tr>\n",
       "      <th>2</th>\n",
       "      <td>&lt;p&gt;Not sure if this fits the scope of this SE,...</td>\n",
       "      <td>NaN</td>\n",
       "      <td>None</td>\n",
       "      <td>None</td>\n",
       "      <td>5</td>\n",
       "      <td>0</td>\n",
       "      <td>NaN</td>\n",
       "      <td>NaN</td>\n",
       "      <td>4</td>\n",
       "      <td>None</td>\n",
       "      <td>2</td>\n",
       "      <td>51</td>\n",
       "      <td>None</td>\n",
       "      <td>2014-05-14T00:36:31.077</td>\n",
       "      <td>NaN</td>\n",
       "      <td>9</td>\n",
       "    </tr>\n",
       "    <tr>\n",
       "      <th>3</th>\n",
       "      <td>&lt;p&gt;One book that's freely available is \"The El...</td>\n",
       "      <td>NaN</td>\n",
       "      <td>None</td>\n",
       "      <td>None</td>\n",
       "      <td>7</td>\n",
       "      <td>1</td>\n",
       "      <td>NaN</td>\n",
       "      <td>NaN</td>\n",
       "      <td>10</td>\n",
       "      <td>None</td>\n",
       "      <td>2</td>\n",
       "      <td>22</td>\n",
       "      <td>None</td>\n",
       "      <td>2014-05-14T00:53:43.273</td>\n",
       "      <td>NaN</td>\n",
       "      <td>10</td>\n",
       "    </tr>\n",
       "    <tr>\n",
       "      <th>4</th>\n",
       "      <td>&lt;p&gt;I am sure data science as will be discussed...</td>\n",
       "      <td>737</td>\n",
       "      <td>None</td>\n",
       "      <td>Is Data Science the Same as Data Mining?</td>\n",
       "      <td>NaN</td>\n",
       "      <td>1</td>\n",
       "      <td>4</td>\n",
       "      <td>NaN</td>\n",
       "      <td>16</td>\n",
       "      <td>None</td>\n",
       "      <td>1</td>\n",
       "      <td>66</td>\n",
       "      <td>&lt;data-mining&gt;&lt;definitions&gt;</td>\n",
       "      <td>2014-05-14T01:25:59.677</td>\n",
       "      <td>3</td>\n",
       "      <td>14</td>\n",
       "    </tr>\n",
       "  </tbody>\n",
       "</table>\n",
       "</div>"
      ],
      "text/plain": [
       "                                                Body  ViewCount  \\\n",
       "0  <p>I've always been interested in machine lear...        306   \n",
       "1  <p>As a researcher and instructor, I'm looking...        285   \n",
       "2  <p>Not sure if this fits the scope of this SE,...        NaN   \n",
       "3  <p>One book that's freely available is \"The El...        NaN   \n",
       "4  <p>I am sure data science as will be discussed...        737   \n",
       "\n",
       "                ClosedDate                                              Title  \\\n",
       "0  2014-05-14T14:40:25.950  How can I do simple machine learning without h...   \n",
       "1  2014-05-14T08:40:54.950  What open-source books (or other materials) pr...   \n",
       "2                     None                                               None   \n",
       "3                     None                                               None   \n",
       "4                     None           Is Data Science the Same as Data Mining?   \n",
       "\n",
       "   ParentID  CommentCount  AnswerCount  AcceptedAnswerId  Score  \\\n",
       "0       NaN             1            1               NaN      7   \n",
       "1       NaN             4            3                10      2   \n",
       "2         5             0          NaN               NaN      4   \n",
       "3         7             1          NaN               NaN     10   \n",
       "4       NaN             1            4               NaN     16   \n",
       "\n",
       "  OwnerDisplayName  PostTypeId  OwnerUserId                        Tags  \\\n",
       "0             None           1            5          <machine-learning>   \n",
       "1             None           1           36    <education><open-source>   \n",
       "2             None           2           51                        None   \n",
       "3             None           2           22                        None   \n",
       "4             None           1           66  <data-mining><definitions>   \n",
       "\n",
       "              CreationDate  FavoriteCount  Id  \n",
       "0  2014-05-13T23:58:30.457              1   5  \n",
       "1  2014-05-14T00:11:06.457              1   7  \n",
       "2  2014-05-14T00:36:31.077            NaN   9  \n",
       "3  2014-05-14T00:53:43.273            NaN  10  \n",
       "4  2014-05-14T01:25:59.677              3  14  "
      ]
     },
     "execution_count": 10,
     "metadata": {},
     "output_type": "execute_result"
    }
   ],
   "source": [
    "post_df.head()"
   ]
  },
  {
   "cell_type": "code",
   "execution_count": 11,
   "metadata": {
    "collapsed": true
   },
   "outputs": [],
   "source": [
    "def create_plain_text(html_formatted_text):\n",
    "    plain_text=BeautifulSoup(html_formatted_text,'html.parser').get_text()\n",
    "    plain_text = plain_text.replace(u'\\u200b','')\n",
    "    plain_text = plain_text.replace(u'\\xa0','')\n",
    "    return plain_text"
   ]
  },
  {
   "cell_type": "code",
   "execution_count": 12,
   "metadata": {
    "collapsed": false
   },
   "outputs": [],
   "source": [
    "post_df['Body_Text']=post_df.apply(lambda k : create_plain_text(k['Body']),axis=1)"
   ]
  },
  {
   "cell_type": "code",
   "execution_count": 13,
   "metadata": {
    "collapsed": false
   },
   "outputs": [
    {
     "data": {
      "text/html": [
       "<div>\n",
       "<table border=\"1\" class=\"dataframe\">\n",
       "  <thead>\n",
       "    <tr style=\"text-align: right;\">\n",
       "      <th></th>\n",
       "      <th>Body</th>\n",
       "      <th>ViewCount</th>\n",
       "      <th>ClosedDate</th>\n",
       "      <th>Title</th>\n",
       "      <th>ParentID</th>\n",
       "      <th>CommentCount</th>\n",
       "      <th>AnswerCount</th>\n",
       "      <th>AcceptedAnswerId</th>\n",
       "      <th>Score</th>\n",
       "      <th>OwnerDisplayName</th>\n",
       "      <th>PostTypeId</th>\n",
       "      <th>OwnerUserId</th>\n",
       "      <th>Tags</th>\n",
       "      <th>CreationDate</th>\n",
       "      <th>FavoriteCount</th>\n",
       "      <th>Id</th>\n",
       "      <th>Body_Text</th>\n",
       "    </tr>\n",
       "  </thead>\n",
       "  <tbody>\n",
       "    <tr>\n",
       "      <th>0</th>\n",
       "      <td>&lt;p&gt;I've always been interested in machine lear...</td>\n",
       "      <td>306</td>\n",
       "      <td>2014-05-14T14:40:25.950</td>\n",
       "      <td>How can I do simple machine learning without h...</td>\n",
       "      <td>NaN</td>\n",
       "      <td>1</td>\n",
       "      <td>1</td>\n",
       "      <td>NaN</td>\n",
       "      <td>7</td>\n",
       "      <td>None</td>\n",
       "      <td>1</td>\n",
       "      <td>5</td>\n",
       "      <td>&lt;machine-learning&gt;</td>\n",
       "      <td>2014-05-13T23:58:30.457</td>\n",
       "      <td>1</td>\n",
       "      <td>5</td>\n",
       "      <td>I've always been interested in machine learnin...</td>\n",
       "    </tr>\n",
       "    <tr>\n",
       "      <th>1</th>\n",
       "      <td>&lt;p&gt;As a researcher and instructor, I'm looking...</td>\n",
       "      <td>285</td>\n",
       "      <td>2014-05-14T08:40:54.950</td>\n",
       "      <td>What open-source books (or other materials) pr...</td>\n",
       "      <td>NaN</td>\n",
       "      <td>4</td>\n",
       "      <td>3</td>\n",
       "      <td>10</td>\n",
       "      <td>2</td>\n",
       "      <td>None</td>\n",
       "      <td>1</td>\n",
       "      <td>36</td>\n",
       "      <td>&lt;education&gt;&lt;open-source&gt;</td>\n",
       "      <td>2014-05-14T00:11:06.457</td>\n",
       "      <td>1</td>\n",
       "      <td>7</td>\n",
       "      <td>As a researcher and instructor, I'm looking fo...</td>\n",
       "    </tr>\n",
       "    <tr>\n",
       "      <th>2</th>\n",
       "      <td>&lt;p&gt;Not sure if this fits the scope of this SE,...</td>\n",
       "      <td>NaN</td>\n",
       "      <td>None</td>\n",
       "      <td>None</td>\n",
       "      <td>5</td>\n",
       "      <td>0</td>\n",
       "      <td>NaN</td>\n",
       "      <td>NaN</td>\n",
       "      <td>4</td>\n",
       "      <td>None</td>\n",
       "      <td>2</td>\n",
       "      <td>51</td>\n",
       "      <td>None</td>\n",
       "      <td>2014-05-14T00:36:31.077</td>\n",
       "      <td>NaN</td>\n",
       "      <td>9</td>\n",
       "      <td>Not sure if this fits the scope of this SE, bu...</td>\n",
       "    </tr>\n",
       "    <tr>\n",
       "      <th>3</th>\n",
       "      <td>&lt;p&gt;One book that's freely available is \"The El...</td>\n",
       "      <td>NaN</td>\n",
       "      <td>None</td>\n",
       "      <td>None</td>\n",
       "      <td>7</td>\n",
       "      <td>1</td>\n",
       "      <td>NaN</td>\n",
       "      <td>NaN</td>\n",
       "      <td>10</td>\n",
       "      <td>None</td>\n",
       "      <td>2</td>\n",
       "      <td>22</td>\n",
       "      <td>None</td>\n",
       "      <td>2014-05-14T00:53:43.273</td>\n",
       "      <td>NaN</td>\n",
       "      <td>10</td>\n",
       "      <td>One book that's freely available is \"The Eleme...</td>\n",
       "    </tr>\n",
       "    <tr>\n",
       "      <th>4</th>\n",
       "      <td>&lt;p&gt;I am sure data science as will be discussed...</td>\n",
       "      <td>737</td>\n",
       "      <td>None</td>\n",
       "      <td>Is Data Science the Same as Data Mining?</td>\n",
       "      <td>NaN</td>\n",
       "      <td>1</td>\n",
       "      <td>4</td>\n",
       "      <td>NaN</td>\n",
       "      <td>16</td>\n",
       "      <td>None</td>\n",
       "      <td>1</td>\n",
       "      <td>66</td>\n",
       "      <td>&lt;data-mining&gt;&lt;definitions&gt;</td>\n",
       "      <td>2014-05-14T01:25:59.677</td>\n",
       "      <td>3</td>\n",
       "      <td>14</td>\n",
       "      <td>I am sure data science as will be discussed in...</td>\n",
       "    </tr>\n",
       "  </tbody>\n",
       "</table>\n",
       "</div>"
      ],
      "text/plain": [
       "                                                Body  ViewCount  \\\n",
       "0  <p>I've always been interested in machine lear...        306   \n",
       "1  <p>As a researcher and instructor, I'm looking...        285   \n",
       "2  <p>Not sure if this fits the scope of this SE,...        NaN   \n",
       "3  <p>One book that's freely available is \"The El...        NaN   \n",
       "4  <p>I am sure data science as will be discussed...        737   \n",
       "\n",
       "                ClosedDate                                              Title  \\\n",
       "0  2014-05-14T14:40:25.950  How can I do simple machine learning without h...   \n",
       "1  2014-05-14T08:40:54.950  What open-source books (or other materials) pr...   \n",
       "2                     None                                               None   \n",
       "3                     None                                               None   \n",
       "4                     None           Is Data Science the Same as Data Mining?   \n",
       "\n",
       "   ParentID  CommentCount  AnswerCount  AcceptedAnswerId  Score  \\\n",
       "0       NaN             1            1               NaN      7   \n",
       "1       NaN             4            3                10      2   \n",
       "2         5             0          NaN               NaN      4   \n",
       "3         7             1          NaN               NaN     10   \n",
       "4       NaN             1            4               NaN     16   \n",
       "\n",
       "  OwnerDisplayName  PostTypeId  OwnerUserId                        Tags  \\\n",
       "0             None           1            5          <machine-learning>   \n",
       "1             None           1           36    <education><open-source>   \n",
       "2             None           2           51                        None   \n",
       "3             None           2           22                        None   \n",
       "4             None           1           66  <data-mining><definitions>   \n",
       "\n",
       "              CreationDate  FavoriteCount  Id  \\\n",
       "0  2014-05-13T23:58:30.457              1   5   \n",
       "1  2014-05-14T00:11:06.457              1   7   \n",
       "2  2014-05-14T00:36:31.077            NaN   9   \n",
       "3  2014-05-14T00:53:43.273            NaN  10   \n",
       "4  2014-05-14T01:25:59.677              3  14   \n",
       "\n",
       "                                           Body_Text  \n",
       "0  I've always been interested in machine learnin...  \n",
       "1  As a researcher and instructor, I'm looking fo...  \n",
       "2  Not sure if this fits the scope of this SE, bu...  \n",
       "3  One book that's freely available is \"The Eleme...  \n",
       "4  I am sure data science as will be discussed in...  "
      ]
     },
     "execution_count": 13,
     "metadata": {},
     "output_type": "execute_result"
    }
   ],
   "source": [
    "post_df.head()"
   ]
  },
  {
   "cell_type": "code",
   "execution_count": 14,
   "metadata": {
    "collapsed": true
   },
   "outputs": [],
   "source": [
    "best_ques = post_df[(post_df.PostTypeId==1)].sort_values(['Score','ViewCount','AnswerCount','FavoriteCount','CommentCount'],ascending=[False,False,False,False,False]).head()"
   ]
  },
  {
   "cell_type": "code",
   "execution_count": 15,
   "metadata": {
    "collapsed": false
   },
   "outputs": [
    {
     "data": {
      "text/html": [
       "<div>\n",
       "<table border=\"1\" class=\"dataframe\">\n",
       "  <thead>\n",
       "    <tr style=\"text-align: right;\">\n",
       "      <th></th>\n",
       "      <th>Title</th>\n",
       "      <th>Body_Text</th>\n",
       "      <th>Tags</th>\n",
       "      <th>Score</th>\n",
       "    </tr>\n",
       "  </thead>\n",
       "  <tbody>\n",
       "    <tr>\n",
       "      <th>128</th>\n",
       "      <td>Publicly Available Datasets</td>\n",
       "      <td>One of the common problems in data science is ...</td>\n",
       "      <td>&lt;open-source&gt;&lt;dataset&gt;</td>\n",
       "      <td>83</td>\n",
       "    </tr>\n",
       "    <tr>\n",
       "      <th>612</th>\n",
       "      <td>Best python library for neural networks</td>\n",
       "      <td>I'm using Neural Networks to solve different M...</td>\n",
       "      <td>&lt;machine-learning&gt;&lt;python&gt;&lt;neuralnetwork&gt;</td>\n",
       "      <td>75</td>\n",
       "    </tr>\n",
       "    <tr>\n",
       "      <th>9</th>\n",
       "      <td>How big is big data?</td>\n",
       "      <td>Lots of people use the term big data in a rath...</td>\n",
       "      <td>&lt;bigdata&gt;&lt;scalability&gt;&lt;efficiency&gt;&lt;performance&gt;</td>\n",
       "      <td>49</td>\n",
       "    </tr>\n",
       "    <tr>\n",
       "      <th>12</th>\n",
       "      <td>K-Means clustering for mixed numeric and categ...</td>\n",
       "      <td>My data set contains a number of numeric attri...</td>\n",
       "      <td>&lt;data-mining&gt;&lt;clustering&gt;&lt;octave&gt;&lt;k-means&gt;&lt;cat...</td>\n",
       "      <td>45</td>\n",
       "    </tr>\n",
       "    <tr>\n",
       "      <th>627</th>\n",
       "      <td>Are Support Vector Machines still considered \"...</td>\n",
       "      <td>This question is in response to a comment I sa...</td>\n",
       "      <td>&lt;data-mining&gt;&lt;svm&gt;&lt;state-of-the-art&gt;</td>\n",
       "      <td>37</td>\n",
       "    </tr>\n",
       "  </tbody>\n",
       "</table>\n",
       "</div>"
      ],
      "text/plain": [
       "                                                 Title  \\\n",
       "128                        Publicly Available Datasets   \n",
       "612            Best python library for neural networks   \n",
       "9                                 How big is big data?   \n",
       "12   K-Means clustering for mixed numeric and categ...   \n",
       "627  Are Support Vector Machines still considered \"...   \n",
       "\n",
       "                                             Body_Text  \\\n",
       "128  One of the common problems in data science is ...   \n",
       "612  I'm using Neural Networks to solve different M...   \n",
       "9    Lots of people use the term big data in a rath...   \n",
       "12   My data set contains a number of numeric attri...   \n",
       "627  This question is in response to a comment I sa...   \n",
       "\n",
       "                                                  Tags  Score  \n",
       "128                             <open-source><dataset>     83  \n",
       "612          <machine-learning><python><neuralnetwork>     75  \n",
       "9      <bigdata><scalability><efficiency><performance>     49  \n",
       "12   <data-mining><clustering><octave><k-means><cat...     45  \n",
       "627               <data-mining><svm><state-of-the-art>     37  "
      ]
     },
     "execution_count": 15,
     "metadata": {},
     "output_type": "execute_result"
    }
   ],
   "source": [
    "best_ques[['Title','Body_Text','Tags','Score']]"
   ]
  },
  {
   "cell_type": "code",
   "execution_count": 16,
   "metadata": {
    "collapsed": false
   },
   "outputs": [],
   "source": [
    "post_df.Title.fillna('None',inplace=True)\n",
    "post_df.Title=pd.Series([title for title in post_df.Title if title!=None])"
   ]
  },
  {
   "cell_type": "code",
   "execution_count": 17,
   "metadata": {
    "collapsed": true
   },
   "outputs": [],
   "source": [
    "post_df.Tags.fillna('None',inplace=True)"
   ]
  },
  {
   "cell_type": "code",
   "execution_count": 18,
   "metadata": {
    "collapsed": false
   },
   "outputs": [
    {
     "name": "stdout",
     "output_type": "stream",
     "text": [
      "<class 'pandas.core.frame.DataFrame'>\n",
      "Int64Index: 8438 entries, 0 to 8437\n",
      "Data columns (total 17 columns):\n",
      "Body                8438 non-null object\n",
      "ViewCount           3548 non-null float64\n",
      "ClosedDate          234 non-null object\n",
      "Title               8438 non-null object\n",
      "ParentID            4672 non-null float64\n",
      "CommentCount        8438 non-null int64\n",
      "AnswerCount         3548 non-null float64\n",
      "AcceptedAnswerId    1223 non-null float64\n",
      "Score               8438 non-null int64\n",
      "OwnerDisplayName    52 non-null object\n",
      "PostTypeId          8438 non-null int64\n",
      "OwnerUserId         8415 non-null float64\n",
      "Tags                8438 non-null object\n",
      "CreationDate        8438 non-null object\n",
      "FavoriteCount       1162 non-null float64\n",
      "Id                  8438 non-null int64\n",
      "Body_Text           8438 non-null object\n",
      "dtypes: float64(6), int64(4), object(7)\n",
      "memory usage: 955.9+ KB\n"
     ]
    }
   ],
   "source": [
    "post_df.info()"
   ]
  },
  {
   "cell_type": "code",
   "execution_count": 19,
   "metadata": {
    "collapsed": false
   },
   "outputs": [],
   "source": [
    "# cleaning tegs\n",
    "import re\n",
    "def clean_tag(tags):\n",
    "    if tags!=None:\n",
    "        modify_tags = re.sub('<|>',' ',str(tags)).split()\n",
    "        return modify_tags\n",
    "    else:\n",
    "        return "
   ]
  },
  {
   "cell_type": "code",
   "execution_count": 20,
   "metadata": {
    "collapsed": false
   },
   "outputs": [],
   "source": [
    "post_df.Tags=post_df.Tags.map(lambda r : clean_tag(r))"
   ]
  },
  {
   "cell_type": "code",
   "execution_count": 21,
   "metadata": {
    "collapsed": false
   },
   "outputs": [
    {
     "data": {
      "text/plain": [
       "0            [machine-learning]\n",
       "1      [education, open-source]\n",
       "2                        [None]\n",
       "3                        [None]\n",
       "4    [data-mining, definitions]\n",
       "Name: Tags, dtype: object"
      ]
     },
     "execution_count": 21,
     "metadata": {},
     "output_type": "execute_result"
    }
   ],
   "source": [
    "post_df['Tags'].head()"
   ]
  },
  {
   "cell_type": "code",
   "execution_count": 22,
   "metadata": {
    "collapsed": false
   },
   "outputs": [
    {
     "data": {
      "text/html": [
       "<div>\n",
       "<table border=\"1\" class=\"dataframe\">\n",
       "  <thead>\n",
       "    <tr style=\"text-align: right;\">\n",
       "      <th></th>\n",
       "      <th>Title</th>\n",
       "      <th>Body_Text</th>\n",
       "      <th>Tags</th>\n",
       "      <th>Score</th>\n",
       "    </tr>\n",
       "  </thead>\n",
       "  <tbody>\n",
       "    <tr>\n",
       "      <th>0</th>\n",
       "      <td>How can I do simple machine learning without h...</td>\n",
       "      <td>I've always been interested in machine learnin...</td>\n",
       "      <td>[machine-learning]</td>\n",
       "      <td>7</td>\n",
       "    </tr>\n",
       "    <tr>\n",
       "      <th>1</th>\n",
       "      <td>What open-source books (or other materials) pr...</td>\n",
       "      <td>As a researcher and instructor, I'm looking fo...</td>\n",
       "      <td>[education, open-source]</td>\n",
       "      <td>2</td>\n",
       "    </tr>\n",
       "    <tr>\n",
       "      <th>2</th>\n",
       "      <td>None</td>\n",
       "      <td>Not sure if this fits the scope of this SE, bu...</td>\n",
       "      <td>[None]</td>\n",
       "      <td>4</td>\n",
       "    </tr>\n",
       "    <tr>\n",
       "      <th>3</th>\n",
       "      <td>None</td>\n",
       "      <td>One book that's freely available is \"The Eleme...</td>\n",
       "      <td>[None]</td>\n",
       "      <td>10</td>\n",
       "    </tr>\n",
       "    <tr>\n",
       "      <th>4</th>\n",
       "      <td>Is Data Science the Same as Data Mining?</td>\n",
       "      <td>I am sure data science as will be discussed in...</td>\n",
       "      <td>[data-mining, definitions]</td>\n",
       "      <td>16</td>\n",
       "    </tr>\n",
       "    <tr>\n",
       "      <th>5</th>\n",
       "      <td>What are the advantages and disadvantages of S...</td>\n",
       "      <td>In which situations would one system be prefer...</td>\n",
       "      <td>[databases]</td>\n",
       "      <td>2</td>\n",
       "    </tr>\n",
       "    <tr>\n",
       "      <th>6</th>\n",
       "      <td>Use liblinear on big data for semantic analysis</td>\n",
       "      <td>I use Libsvm to train data and predict classif...</td>\n",
       "      <td>[machine-learning, bigdata, libsvm]</td>\n",
       "      <td>15</td>\n",
       "    </tr>\n",
       "    <tr>\n",
       "      <th>7</th>\n",
       "      <td>None</td>\n",
       "      <td>LIBSVM is a library for support vector classif...</td>\n",
       "      <td>[None]</td>\n",
       "      <td>0</td>\n",
       "    </tr>\n",
       "    <tr>\n",
       "      <th>8</th>\n",
       "      <td>None</td>\n",
       "      <td></td>\n",
       "      <td>[None]</td>\n",
       "      <td>0</td>\n",
       "    </tr>\n",
       "    <tr>\n",
       "      <th>9</th>\n",
       "      <td>How big is big data?</td>\n",
       "      <td>Lots of people use the term big data in a rath...</td>\n",
       "      <td>[bigdata, scalability, efficiency, performance]</td>\n",
       "      <td>49</td>\n",
       "    </tr>\n",
       "  </tbody>\n",
       "</table>\n",
       "</div>"
      ],
      "text/plain": [
       "                                               Title  \\\n",
       "0  How can I do simple machine learning without h...   \n",
       "1  What open-source books (or other materials) pr...   \n",
       "2                                               None   \n",
       "3                                               None   \n",
       "4           Is Data Science the Same as Data Mining?   \n",
       "5  What are the advantages and disadvantages of S...   \n",
       "6    Use liblinear on big data for semantic analysis   \n",
       "7                                               None   \n",
       "8                                               None   \n",
       "9                               How big is big data?   \n",
       "\n",
       "                                           Body_Text  \\\n",
       "0  I've always been interested in machine learnin...   \n",
       "1  As a researcher and instructor, I'm looking fo...   \n",
       "2  Not sure if this fits the scope of this SE, bu...   \n",
       "3  One book that's freely available is \"The Eleme...   \n",
       "4  I am sure data science as will be discussed in...   \n",
       "5  In which situations would one system be prefer...   \n",
       "6  I use Libsvm to train data and predict classif...   \n",
       "7  LIBSVM is a library for support vector classif...   \n",
       "8                                                      \n",
       "9  Lots of people use the term big data in a rath...   \n",
       "\n",
       "                                              Tags  Score  \n",
       "0                               [machine-learning]      7  \n",
       "1                         [education, open-source]      2  \n",
       "2                                           [None]      4  \n",
       "3                                           [None]     10  \n",
       "4                       [data-mining, definitions]     16  \n",
       "5                                      [databases]      2  \n",
       "6              [machine-learning, bigdata, libsvm]     15  \n",
       "7                                           [None]      0  \n",
       "8                                           [None]      0  \n",
       "9  [bigdata, scalability, efficiency, performance]     49  "
      ]
     },
     "execution_count": 22,
     "metadata": {},
     "output_type": "execute_result"
    }
   ],
   "source": [
    "post_df[['Title','Body_Text','Tags','Score']].head(10)"
   ]
  },
  {
   "cell_type": "code",
   "execution_count": 23,
   "metadata": {
    "collapsed": false
   },
   "outputs": [],
   "source": [
    "train_data=post_df['Title'].values.tolist()"
   ]
  },
  {
   "cell_type": "code",
   "execution_count": 24,
   "metadata": {
    "collapsed": false
   },
   "outputs": [],
   "source": [
    "train_data=[data for data in train_data if data!=None]"
   ]
  },
  {
   "cell_type": "code",
   "execution_count": 25,
   "metadata": {
    "collapsed": false
   },
   "outputs": [
    {
     "name": "stderr",
     "output_type": "stream",
     "text": [
      "/usr/local/lib/python2.7/dist-packages/ipykernel/__main__.py:2: FutureWarning: sort(columns=....) is deprecated, use sort_values(by=.....)\n",
      "  from ipykernel import kernelapp as app\n"
     ]
    }
   ],
   "source": [
    "# Answer\n",
    "best_answer=post_df[(post_df.PostTypeId==2)].sort(['Score'],ascending=[False]).head(100)"
   ]
  },
  {
   "cell_type": "code",
   "execution_count": 26,
   "metadata": {
    "collapsed": false
   },
   "outputs": [
    {
     "data": {
      "text/html": [
       "<div>\n",
       "<table border=\"1\" class=\"dataframe\">\n",
       "  <thead>\n",
       "    <tr style=\"text-align: right;\">\n",
       "      <th></th>\n",
       "      <th>Score</th>\n",
       "      <th>Body_Text</th>\n",
       "    </tr>\n",
       "  </thead>\n",
       "  <tbody>\n",
       "    <tr>\n",
       "      <th>613</th>\n",
       "      <td>69</td>\n",
       "      <td>UPDATE: the landscape has changed quite a bit ...</td>\n",
       "    </tr>\n",
       "    <tr>\n",
       "      <th>24</th>\n",
       "      <td>61</td>\n",
       "      <td>To me (coming from a relational database backg...</td>\n",
       "    </tr>\n",
       "    <tr>\n",
       "      <th>131</th>\n",
       "      <td>46</td>\n",
       "      <td>There is, in fact, a very reasonable list of p...</td>\n",
       "    </tr>\n",
       "    <tr>\n",
       "      <th>8126</th>\n",
       "      <td>44</td>\n",
       "      <td>So you can integrate with the rest of the code...</td>\n",
       "    </tr>\n",
       "    <tr>\n",
       "      <th>298</th>\n",
       "      <td>40</td>\n",
       "      <td>Some real important differences to consider wh...</td>\n",
       "    </tr>\n",
       "  </tbody>\n",
       "</table>\n",
       "</div>"
      ],
      "text/plain": [
       "      Score                                          Body_Text\n",
       "613      69  UPDATE: the landscape has changed quite a bit ...\n",
       "24       61  To me (coming from a relational database backg...\n",
       "131      46  There is, in fact, a very reasonable list of p...\n",
       "8126     44  So you can integrate with the rest of the code...\n",
       "298      40  Some real important differences to consider wh..."
      ]
     },
     "execution_count": 26,
     "metadata": {},
     "output_type": "execute_result"
    }
   ],
   "source": [
    "best_answer[['Score','Body_Text']].head()"
   ]
  },
  {
   "cell_type": "markdown",
   "metadata": {},
   "source": [
    "### import and instatiate count Vectorizer\n",
    "#### Count vectorizer convert text in to matrix of token count"
   ]
  },
  {
   "cell_type": "code",
   "execution_count": 27,
   "metadata": {
    "collapsed": true
   },
   "outputs": [],
   "source": [
    "from sklearn.feature_extraction.text import CountVectorizer"
   ]
  },
  {
   "cell_type": "code",
   "execution_count": 28,
   "metadata": {
    "collapsed": false
   },
   "outputs": [],
   "source": [
    "# now Learning vocabulury of training data\n",
    "# vectorizer.fit(train_data)"
   ]
  },
  {
   "cell_type": "code",
   "execution_count": 29,
   "metadata": {
    "collapsed": false
   },
   "outputs": [],
   "source": [
    "# examinine fitted vocabolury\n",
    "# vectorizer.get_feature_names()[:10]"
   ]
  },
  {
   "cell_type": "code",
   "execution_count": 30,
   "metadata": {
    "collapsed": false
   },
   "outputs": [],
   "source": [
    "# transforming training data into document matrix\n",
    "# X=vectorizer.transform(train_data)\n"
   ]
  },
  {
   "cell_type": "code",
   "execution_count": 31,
   "metadata": {
    "collapsed": false
   },
   "outputs": [],
   "source": [
    "# converting sparse matrix to dense matrix\n",
    "# X.toarray()"
   ]
  },
  {
   "cell_type": "code",
   "execution_count": 32,
   "metadata": {
    "collapsed": false
   },
   "outputs": [],
   "source": [
    "# examine the vocabulary and document-term matrix together\n",
    "# pd.DataFrame(X.toarray(),columns=vectorizer.get_feature_names()).head()"
   ]
  },
  {
   "cell_type": "code",
   "execution_count": 33,
   "metadata": {
    "collapsed": false
   },
   "outputs": [
    {
     "data": {
      "text/html": [
       "<div>\n",
       "<table border=\"1\" class=\"dataframe\">\n",
       "  <thead>\n",
       "    <tr style=\"text-align: right;\">\n",
       "      <th></th>\n",
       "      <th>Tags</th>\n",
       "    </tr>\n",
       "  </thead>\n",
       "  <tbody>\n",
       "    <tr>\n",
       "      <th>0</th>\n",
       "      <td>[machine-learning]</td>\n",
       "    </tr>\n",
       "    <tr>\n",
       "      <th>1</th>\n",
       "      <td>[education, open-source]</td>\n",
       "    </tr>\n",
       "    <tr>\n",
       "      <th>2</th>\n",
       "      <td>[None]</td>\n",
       "    </tr>\n",
       "    <tr>\n",
       "      <th>3</th>\n",
       "      <td>[None]</td>\n",
       "    </tr>\n",
       "    <tr>\n",
       "      <th>4</th>\n",
       "      <td>[data-mining, definitions]</td>\n",
       "    </tr>\n",
       "  </tbody>\n",
       "</table>\n",
       "</div>"
      ],
      "text/plain": [
       "                         Tags\n",
       "0          [machine-learning]\n",
       "1    [education, open-source]\n",
       "2                      [None]\n",
       "3                      [None]\n",
       "4  [data-mining, definitions]"
      ]
     },
     "execution_count": 33,
     "metadata": {},
     "output_type": "execute_result"
    }
   ],
   "source": [
    "post_df[['Tags']].head()"
   ]
  },
  {
   "cell_type": "code",
   "execution_count": 34,
   "metadata": {
    "collapsed": false
   },
   "outputs": [],
   "source": [
    "def process_tag(tags):\n",
    "    tag_str_format=\"\"\n",
    "    if tags!=None:\n",
    "        for i in range(len(tags)-1):\n",
    "            tag_str_format += tags[i] + \",\"\n",
    "        tag_str_format += tags[len(tags)-1]\n",
    "        return tag_str_format\n",
    "    else:\n",
    "        return \n",
    "            "
   ]
  },
  {
   "cell_type": "code",
   "execution_count": 35,
   "metadata": {
    "collapsed": true
   },
   "outputs": [],
   "source": [
    "post_df['Tags_Target']=post_df.Tags.map(lambda tag : process_tag(tag))"
   ]
  },
  {
   "cell_type": "code",
   "execution_count": 36,
   "metadata": {
    "collapsed": false
   },
   "outputs": [],
   "source": [
    "from sklearn import preprocessing\n",
    "le=preprocessing.LabelEncoder()"
   ]
  },
  {
   "cell_type": "code",
   "execution_count": 37,
   "metadata": {
    "collapsed": false
   },
   "outputs": [
    {
     "data": {
      "text/html": [
       "<div>\n",
       "<table border=\"1\" class=\"dataframe\">\n",
       "  <thead>\n",
       "    <tr style=\"text-align: right;\">\n",
       "      <th></th>\n",
       "      <th>Title</th>\n",
       "      <th>Tags</th>\n",
       "      <th>Tags_label_num</th>\n",
       "      <th>Tags_Target</th>\n",
       "    </tr>\n",
       "  </thead>\n",
       "  <tbody>\n",
       "    <tr>\n",
       "      <th>0</th>\n",
       "      <td>How can I do simple machine learning without h...</td>\n",
       "      <td>[machine-learning]</td>\n",
       "      <td>[151]</td>\n",
       "      <td>machine-learning</td>\n",
       "    </tr>\n",
       "    <tr>\n",
       "      <th>1</th>\n",
       "      <td>What open-source books (or other materials) pr...</td>\n",
       "      <td>[education, open-source]</td>\n",
       "      <td>[77, 184]</td>\n",
       "      <td>education,open-source</td>\n",
       "    </tr>\n",
       "    <tr>\n",
       "      <th>2</th>\n",
       "      <td>None</td>\n",
       "      <td>[None]</td>\n",
       "      <td>[1]</td>\n",
       "      <td>None</td>\n",
       "    </tr>\n",
       "    <tr>\n",
       "      <th>3</th>\n",
       "      <td>None</td>\n",
       "      <td>[None]</td>\n",
       "      <td>[1]</td>\n",
       "      <td>None</td>\n",
       "    </tr>\n",
       "    <tr>\n",
       "      <th>4</th>\n",
       "      <td>Is Data Science the Same as Data Mining?</td>\n",
       "      <td>[data-mining, definitions]</td>\n",
       "      <td>[60, 69]</td>\n",
       "      <td>data-mining,definitions</td>\n",
       "    </tr>\n",
       "    <tr>\n",
       "      <th>5</th>\n",
       "      <td>What are the advantages and disadvantages of S...</td>\n",
       "      <td>[databases]</td>\n",
       "      <td>[64]</td>\n",
       "      <td>databases</td>\n",
       "    </tr>\n",
       "    <tr>\n",
       "      <th>6</th>\n",
       "      <td>Use liblinear on big data for semantic analysis</td>\n",
       "      <td>[machine-learning, bigdata, libsvm]</td>\n",
       "      <td>[151, 28, 146]</td>\n",
       "      <td>machine-learning,bigdata,libsvm</td>\n",
       "    </tr>\n",
       "    <tr>\n",
       "      <th>7</th>\n",
       "      <td>None</td>\n",
       "      <td>[None]</td>\n",
       "      <td>[1]</td>\n",
       "      <td>None</td>\n",
       "    </tr>\n",
       "    <tr>\n",
       "      <th>8</th>\n",
       "      <td>None</td>\n",
       "      <td>[None]</td>\n",
       "      <td>[1]</td>\n",
       "      <td>None</td>\n",
       "    </tr>\n",
       "    <tr>\n",
       "      <th>9</th>\n",
       "      <td>How big is big data?</td>\n",
       "      <td>[bigdata, scalability, efficiency, performance]</td>\n",
       "      <td>[28, 227, 78, 195]</td>\n",
       "      <td>bigdata,scalability,efficiency,performance</td>\n",
       "    </tr>\n",
       "  </tbody>\n",
       "</table>\n",
       "</div>"
      ],
      "text/plain": [
       "                                               Title  \\\n",
       "0  How can I do simple machine learning without h...   \n",
       "1  What open-source books (or other materials) pr...   \n",
       "2                                               None   \n",
       "3                                               None   \n",
       "4           Is Data Science the Same as Data Mining?   \n",
       "5  What are the advantages and disadvantages of S...   \n",
       "6    Use liblinear on big data for semantic analysis   \n",
       "7                                               None   \n",
       "8                                               None   \n",
       "9                               How big is big data?   \n",
       "\n",
       "                                              Tags      Tags_label_num  \\\n",
       "0                               [machine-learning]               [151]   \n",
       "1                         [education, open-source]           [77, 184]   \n",
       "2                                           [None]                 [1]   \n",
       "3                                           [None]                 [1]   \n",
       "4                       [data-mining, definitions]            [60, 69]   \n",
       "5                                      [databases]                [64]   \n",
       "6              [machine-learning, bigdata, libsvm]      [151, 28, 146]   \n",
       "7                                           [None]                 [1]   \n",
       "8                                           [None]                 [1]   \n",
       "9  [bigdata, scalability, efficiency, performance]  [28, 227, 78, 195]   \n",
       "\n",
       "                                  Tags_Target  \n",
       "0                            machine-learning  \n",
       "1                       education,open-source  \n",
       "2                                        None  \n",
       "3                                        None  \n",
       "4                     data-mining,definitions  \n",
       "5                                   databases  \n",
       "6             machine-learning,bigdata,libsvm  \n",
       "7                                        None  \n",
       "8                                        None  \n",
       "9  bigdata,scalability,efficiency,performance  "
      ]
     },
     "execution_count": 37,
     "metadata": {},
     "output_type": "execute_result"
    }
   ],
   "source": [
    "tag_list= []          # contains values of d_set['tag']\n",
    "tag_list=[tag for tag in post_df.Tags if tag!=None]\n",
    "tag_list = [sub_tag for tag in tag_list for sub_tag in tag]\n",
    "tag_list=list(set(tag_list))\n",
    "\n",
    "le.fit(tag_list)\n",
    "\n",
    "post_df['Tags_label_num']=pd.Series([le.transform(tag) for tag in post_df.Tags if tag!=None])\n",
    "\n",
    "post_df[['Title','Tags','Tags_label_num','Tags_Target']].head(10)"
   ]
  },
  {
   "cell_type": "code",
   "execution_count": 38,
   "metadata": {
    "collapsed": false
   },
   "outputs": [],
   "source": [
    "from sklearn.preprocessing import MultiLabelBinarizer\n",
    "mlb=MultiLabelBinarizer()"
   ]
  },
  {
   "cell_type": "code",
   "execution_count": 39,
   "metadata": {
    "collapsed": false
   },
   "outputs": [
    {
     "data": {
      "text/plain": [
       "8438"
      ]
     },
     "execution_count": 39,
     "metadata": {},
     "output_type": "execute_result"
    }
   ],
   "source": [
    "trained_tags_label=[tag_num for tag_num in post_df.Tags_label_num ]\n",
    "len(trained_tags_label)"
   ]
  },
  {
   "cell_type": "code",
   "execution_count": 40,
   "metadata": {
    "collapsed": false
   },
   "outputs": [
    {
     "data": {
      "text/plain": [
       "MultiLabelBinarizer(classes=None, sparse_output=False)"
      ]
     },
     "execution_count": 40,
     "metadata": {},
     "output_type": "execute_result"
    }
   ],
   "source": [
    "mlb.fit(trained_tags_label)"
   ]
  },
  {
   "cell_type": "code",
   "execution_count": 41,
   "metadata": {
    "collapsed": false
   },
   "outputs": [
    {
     "data": {
      "text/plain": [
       "array([[0, 0, 0, ..., 0, 0, 0],\n",
       "       [0, 0, 0, ..., 0, 0, 0],\n",
       "       [0, 1, 0, ..., 0, 0, 0],\n",
       "       ..., \n",
       "       [0, 0, 0, ..., 0, 0, 0],\n",
       "       [0, 1, 0, ..., 0, 0, 0],\n",
       "       [0, 1, 0, ..., 0, 0, 0]])"
      ]
     },
     "execution_count": 41,
     "metadata": {},
     "output_type": "execute_result"
    }
   ],
   "source": [
    "trained_tags_dtm=mlb.transform(trained_tags_label)\n",
    "trained_tags_dtm"
   ]
  },
  {
   "cell_type": "markdown",
   "metadata": {},
   "source": [
    "### Vectorize dataset"
   ]
  },
  {
   "cell_type": "code",
   "execution_count": 44,
   "metadata": {
    "collapsed": true
   },
   "outputs": [],
   "source": [
    "# instatiate the vectorizer\n",
    "vect_for_title=CountVectorizer(max_df=0.5, min_df=1, stop_words='english')"
   ]
  },
  {
   "cell_type": "code",
   "execution_count": 45,
   "metadata": {
    "collapsed": false
   },
   "outputs": [
    {
     "data": {
      "text/plain": [
       "CountVectorizer(analyzer=u'word', binary=False, decode_error=u'strict',\n",
       "        dtype=<type 'numpy.int64'>, encoding=u'utf-8', input=u'content',\n",
       "        lowercase=True, max_df=0.5, max_features=None, min_df=1,\n",
       "        ngram_range=(1, 1), preprocessor=None, stop_words='english',\n",
       "        strip_accents=None, token_pattern=u'(?u)\\\\b\\\\w\\\\w+\\\\b',\n",
       "        tokenizer=None, vocabulary=None)"
      ]
     },
     "execution_count": 45,
     "metadata": {},
     "output_type": "execute_result"
    }
   ],
   "source": [
    "# Learn train_data from vocabulury\n",
    "vect_for_title.fit(train_data)"
   ]
  },
  {
   "cell_type": "code",
   "execution_count": 46,
   "metadata": {
    "collapsed": false
   },
   "outputs": [],
   "source": [
    "X_train_dtm=vect_for_title.transform(train_data)"
   ]
  },
  {
   "cell_type": "code",
   "execution_count": 47,
   "metadata": {
    "collapsed": false
   },
   "outputs": [],
   "source": [
    "X_train_array=X_train_dtm.toarray()"
   ]
  },
  {
   "cell_type": "code",
   "execution_count": 51,
   "metadata": {
    "collapsed": false
   },
   "outputs": [
    {
     "data": {
      "text/plain": [
       "array([[0, 0, 0, ..., 0, 0, 0],\n",
       "       [0, 0, 0, ..., 0, 0, 0]], dtype=int64)"
      ]
     },
     "execution_count": 51,
     "metadata": {},
     "output_type": "execute_result"
    }
   ],
   "source": [
    "X_train_array[:2]"
   ]
  },
  {
   "cell_type": "code",
   "execution_count": 56,
   "metadata": {
    "collapsed": false
   },
   "outputs": [
    {
     "data": {
      "text/html": [
       "<div>\n",
       "<table border=\"1\" class=\"dataframe\">\n",
       "  <thead>\n",
       "    <tr style=\"text-align: right;\">\n",
       "      <th></th>\n",
       "      <th>04</th>\n",
       "      <th>10</th>\n",
       "      <th>100</th>\n",
       "      <th>1000</th>\n",
       "      <th>100000</th>\n",
       "      <th>1070</th>\n",
       "      <th>11</th>\n",
       "      <th>15</th>\n",
       "      <th>16</th>\n",
       "      <th>16s</th>\n",
       "      <th>...</th>\n",
       "      <th>yearprediction</th>\n",
       "      <th>years</th>\n",
       "      <th>yes</th>\n",
       "      <th>yielding</th>\n",
       "      <th>yields</th>\n",
       "      <th>zeppelin</th>\n",
       "      <th>zero</th>\n",
       "      <th>zeror</th>\n",
       "      <th>zip</th>\n",
       "      <th>zookeeper</th>\n",
       "    </tr>\n",
       "  </thead>\n",
       "  <tbody>\n",
       "    <tr>\n",
       "      <th>0</th>\n",
       "      <td>0</td>\n",
       "      <td>0</td>\n",
       "      <td>0</td>\n",
       "      <td>0</td>\n",
       "      <td>0</td>\n",
       "      <td>0</td>\n",
       "      <td>0</td>\n",
       "      <td>0</td>\n",
       "      <td>0</td>\n",
       "      <td>0</td>\n",
       "      <td>...</td>\n",
       "      <td>0</td>\n",
       "      <td>0</td>\n",
       "      <td>0</td>\n",
       "      <td>0</td>\n",
       "      <td>0</td>\n",
       "      <td>0</td>\n",
       "      <td>0</td>\n",
       "      <td>0</td>\n",
       "      <td>0</td>\n",
       "      <td>0</td>\n",
       "    </tr>\n",
       "    <tr>\n",
       "      <th>1</th>\n",
       "      <td>0</td>\n",
       "      <td>0</td>\n",
       "      <td>0</td>\n",
       "      <td>0</td>\n",
       "      <td>0</td>\n",
       "      <td>0</td>\n",
       "      <td>0</td>\n",
       "      <td>0</td>\n",
       "      <td>0</td>\n",
       "      <td>0</td>\n",
       "      <td>...</td>\n",
       "      <td>0</td>\n",
       "      <td>0</td>\n",
       "      <td>0</td>\n",
       "      <td>0</td>\n",
       "      <td>0</td>\n",
       "      <td>0</td>\n",
       "      <td>0</td>\n",
       "      <td>0</td>\n",
       "      <td>0</td>\n",
       "      <td>0</td>\n",
       "    </tr>\n",
       "    <tr>\n",
       "      <th>2</th>\n",
       "      <td>0</td>\n",
       "      <td>0</td>\n",
       "      <td>0</td>\n",
       "      <td>0</td>\n",
       "      <td>0</td>\n",
       "      <td>0</td>\n",
       "      <td>0</td>\n",
       "      <td>0</td>\n",
       "      <td>0</td>\n",
       "      <td>0</td>\n",
       "      <td>...</td>\n",
       "      <td>0</td>\n",
       "      <td>0</td>\n",
       "      <td>0</td>\n",
       "      <td>0</td>\n",
       "      <td>0</td>\n",
       "      <td>0</td>\n",
       "      <td>0</td>\n",
       "      <td>0</td>\n",
       "      <td>0</td>\n",
       "      <td>0</td>\n",
       "    </tr>\n",
       "  </tbody>\n",
       "</table>\n",
       "<p>3 rows × 4027 columns</p>\n",
       "</div>"
      ],
      "text/plain": [
       "   04  10  100  1000  100000  1070  11  15  16  16s    ...      \\\n",
       "0   0   0    0     0       0     0   0   0   0    0    ...       \n",
       "1   0   0    0     0       0     0   0   0   0    0    ...       \n",
       "2   0   0    0     0       0     0   0   0   0    0    ...       \n",
       "\n",
       "   yearprediction  years  yes  yielding  yields  zeppelin  zero  zeror  zip  \\\n",
       "0               0      0    0         0       0         0     0      0    0   \n",
       "1               0      0    0         0       0         0     0      0    0   \n",
       "2               0      0    0         0       0         0     0      0    0   \n",
       "\n",
       "   zookeeper  \n",
       "0          0  \n",
       "1          0  \n",
       "2          0  \n",
       "\n",
       "[3 rows x 4027 columns]"
      ]
     },
     "execution_count": 56,
     "metadata": {},
     "output_type": "execute_result"
    }
   ],
   "source": [
    "df=pd.DataFrame(X_train_array,columns=vect_for_title.get_feature_names())\n",
    "df.loc[0:2,:]"
   ]
  },
  {
   "cell_type": "code",
   "execution_count": 80,
   "metadata": {
    "collapsed": false
   },
   "outputs": [],
   "source": [
    "X=X_train_array\n",
    "y=trained_tags_dtm"
   ]
  },
  {
   "cell_type": "code",
   "execution_count": 84,
   "metadata": {
    "collapsed": false
   },
   "outputs": [],
   "source": [
    "from sklearn.cross_validation import train_test_split\n",
    "X_train,X_test,y_train,y_test=train_test_split(X,y,test_size=0.2,random_state=1)"
   ]
  },
  {
   "cell_type": "code",
   "execution_count": 85,
   "metadata": {
    "collapsed": false
   },
   "outputs": [
    {
     "data": {
      "text/plain": [
       "((6750, 4027), (1688, 4027), (6750, 283), (1688, 283))"
      ]
     },
     "execution_count": 85,
     "metadata": {},
     "output_type": "execute_result"
    }
   ],
   "source": [
    "X_train.shape, X_test.shape,y_train.shape, y_test.shape"
   ]
  },
  {
   "cell_type": "code",
   "execution_count": 83,
   "metadata": {
    "collapsed": false
   },
   "outputs": [
    {
     "ename": "ValueError",
     "evalue": "bad input shape (6328, 283)",
     "output_type": "error",
     "traceback": [
      "\u001b[1;31m---------------------------------------------------------------------------\u001b[0m",
      "\u001b[1;31mValueError\u001b[0m                                Traceback (most recent call last)",
      "\u001b[1;32m<ipython-input-83-89fe06284b05>\u001b[0m in \u001b[0;36m<module>\u001b[1;34m()\u001b[0m\n\u001b[0;32m      1\u001b[0m \u001b[1;32mfrom\u001b[0m \u001b[0msklearn\u001b[0m\u001b[1;33m.\u001b[0m\u001b[0mnaive_bayes\u001b[0m \u001b[1;32mimport\u001b[0m \u001b[0mMultinomialNB\u001b[0m\u001b[1;33m\u001b[0m\u001b[0m\n\u001b[0;32m      2\u001b[0m \u001b[0mnb\u001b[0m\u001b[1;33m=\u001b[0m\u001b[0mMultinomialNB\u001b[0m\u001b[1;33m(\u001b[0m\u001b[1;33m)\u001b[0m\u001b[1;33m\u001b[0m\u001b[0m\n\u001b[1;32m----> 3\u001b[1;33m \u001b[0mnb\u001b[0m\u001b[1;33m.\u001b[0m\u001b[0mfit\u001b[0m\u001b[1;33m(\u001b[0m\u001b[0mX_train\u001b[0m\u001b[1;33m,\u001b[0m\u001b[0my_train\u001b[0m\u001b[1;33m)\u001b[0m\u001b[1;33m\u001b[0m\u001b[0m\n\u001b[0m",
      "\u001b[1;32m/usr/local/lib/python2.7/dist-packages/sklearn/naive_bayes.pyc\u001b[0m in \u001b[0;36mfit\u001b[1;34m(self, X, y, sample_weight)\u001b[0m\n\u001b[0;32m    560\u001b[0m             \u001b[0mReturns\u001b[0m \u001b[0mself\u001b[0m\u001b[1;33m.\u001b[0m\u001b[1;33m\u001b[0m\u001b[0m\n\u001b[0;32m    561\u001b[0m         \"\"\"\n\u001b[1;32m--> 562\u001b[1;33m         \u001b[0mX\u001b[0m\u001b[1;33m,\u001b[0m \u001b[0my\u001b[0m \u001b[1;33m=\u001b[0m \u001b[0mcheck_X_y\u001b[0m\u001b[1;33m(\u001b[0m\u001b[0mX\u001b[0m\u001b[1;33m,\u001b[0m \u001b[0my\u001b[0m\u001b[1;33m,\u001b[0m \u001b[1;34m'csr'\u001b[0m\u001b[1;33m)\u001b[0m\u001b[1;33m\u001b[0m\u001b[0m\n\u001b[0m\u001b[0;32m    563\u001b[0m         \u001b[0m_\u001b[0m\u001b[1;33m,\u001b[0m \u001b[0mn_features\u001b[0m \u001b[1;33m=\u001b[0m \u001b[0mX\u001b[0m\u001b[1;33m.\u001b[0m\u001b[0mshape\u001b[0m\u001b[1;33m\u001b[0m\u001b[0m\n\u001b[0;32m    564\u001b[0m \u001b[1;33m\u001b[0m\u001b[0m\n",
      "\u001b[1;32m/usr/local/lib/python2.7/dist-packages/sklearn/utils/validation.pyc\u001b[0m in \u001b[0;36mcheck_X_y\u001b[1;34m(X, y, accept_sparse, dtype, order, copy, force_all_finite, ensure_2d, allow_nd, multi_output, ensure_min_samples, ensure_min_features, y_numeric, warn_on_dtype, estimator)\u001b[0m\n\u001b[0;32m    524\u001b[0m                         dtype=None)\n\u001b[0;32m    525\u001b[0m     \u001b[1;32melse\u001b[0m\u001b[1;33m:\u001b[0m\u001b[1;33m\u001b[0m\u001b[0m\n\u001b[1;32m--> 526\u001b[1;33m         \u001b[0my\u001b[0m \u001b[1;33m=\u001b[0m \u001b[0mcolumn_or_1d\u001b[0m\u001b[1;33m(\u001b[0m\u001b[0my\u001b[0m\u001b[1;33m,\u001b[0m \u001b[0mwarn\u001b[0m\u001b[1;33m=\u001b[0m\u001b[0mTrue\u001b[0m\u001b[1;33m)\u001b[0m\u001b[1;33m\u001b[0m\u001b[0m\n\u001b[0m\u001b[0;32m    527\u001b[0m         \u001b[0m_assert_all_finite\u001b[0m\u001b[1;33m(\u001b[0m\u001b[0my\u001b[0m\u001b[1;33m)\u001b[0m\u001b[1;33m\u001b[0m\u001b[0m\n\u001b[0;32m    528\u001b[0m     \u001b[1;32mif\u001b[0m \u001b[0my_numeric\u001b[0m \u001b[1;32mand\u001b[0m \u001b[0my\u001b[0m\u001b[1;33m.\u001b[0m\u001b[0mdtype\u001b[0m\u001b[1;33m.\u001b[0m\u001b[0mkind\u001b[0m \u001b[1;33m==\u001b[0m \u001b[1;34m'O'\u001b[0m\u001b[1;33m:\u001b[0m\u001b[1;33m\u001b[0m\u001b[0m\n",
      "\u001b[1;32m/usr/local/lib/python2.7/dist-packages/sklearn/utils/validation.pyc\u001b[0m in \u001b[0;36mcolumn_or_1d\u001b[1;34m(y, warn)\u001b[0m\n\u001b[0;32m    560\u001b[0m         \u001b[1;32mreturn\u001b[0m \u001b[0mnp\u001b[0m\u001b[1;33m.\u001b[0m\u001b[0mravel\u001b[0m\u001b[1;33m(\u001b[0m\u001b[0my\u001b[0m\u001b[1;33m)\u001b[0m\u001b[1;33m\u001b[0m\u001b[0m\n\u001b[0;32m    561\u001b[0m \u001b[1;33m\u001b[0m\u001b[0m\n\u001b[1;32m--> 562\u001b[1;33m     \u001b[1;32mraise\u001b[0m \u001b[0mValueError\u001b[0m\u001b[1;33m(\u001b[0m\u001b[1;34m\"bad input shape {0}\"\u001b[0m\u001b[1;33m.\u001b[0m\u001b[0mformat\u001b[0m\u001b[1;33m(\u001b[0m\u001b[0mshape\u001b[0m\u001b[1;33m)\u001b[0m\u001b[1;33m)\u001b[0m\u001b[1;33m\u001b[0m\u001b[0m\n\u001b[0m\u001b[0;32m    563\u001b[0m \u001b[1;33m\u001b[0m\u001b[0m\n\u001b[0;32m    564\u001b[0m \u001b[1;33m\u001b[0m\u001b[0m\n",
      "\u001b[1;31mValueError\u001b[0m: bad input shape (6328, 283)"
     ]
    }
   ],
   "source": [
    "from sklearn.naive_bayes import MultinomialNB\n",
    "nb=MultinomialNB()\n",
    "nb.fit(X_train,y_train)"
   ]
  },
  {
   "cell_type": "code",
   "execution_count": null,
   "metadata": {
    "collapsed": true
   },
   "outputs": [],
   "source": []
  }
 ],
 "metadata": {
  "kernelspec": {
   "display_name": "Python 2",
   "language": "python",
   "name": "python2"
  },
  "language_info": {
   "codemirror_mode": {
    "name": "ipython",
    "version": 2
   },
   "file_extension": ".py",
   "mimetype": "text/x-python",
   "name": "python",
   "nbconvert_exporter": "python",
   "pygments_lexer": "ipython2",
   "version": "2.7.12"
  }
 },
 "nbformat": 4,
 "nbformat_minor": 1
}
